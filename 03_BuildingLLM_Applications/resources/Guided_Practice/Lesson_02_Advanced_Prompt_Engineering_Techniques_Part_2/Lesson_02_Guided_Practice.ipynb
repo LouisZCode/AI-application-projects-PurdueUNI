{
 "cells": [
  {
   "cell_type": "markdown",
   "id": "Ge2aglK_6GxU",
   "metadata": {
    "id": "Ge2aglK_6GxU"
   },
   "source": [
    "# __Crafting Marketing Descriptions with OpenAI and LangChain__\n",
    "\n"
   ]
  },
  {
   "cell_type": "markdown",
   "id": "nPpLfVNuTOMD",
   "metadata": {
    "id": "nPpLfVNuTOMD"
   },
   "source": [
    "## __Steps to Perform__\n",
    "Step 1: Setup the OpenAI API Key\n",
    "\n",
    "Step 2: Generate a Marketing Product Description from a Product Fact Sheet\n",
    "\n",
    "Step 3: Address the Issues"
   ]
  },
  {
   "cell_type": "markdown",
   "id": "a7noJfY86RD1",
   "metadata": {
    "id": "a7noJfY86RD1"
   },
   "source": [
    "### __Step 1: Setup the OpenAI API Key__\n",
    "- Import the necessary libraries (openai and os) and load the OpenAI API key from a __.env__ file.\n",
    "- Define the __get_completion__ function, which sends prompts to the OpenAI model and retrieves responses.\n",
    "- The temperature parameter is set to 0 for deterministic responses."
   ]
  },
  {
   "cell_type": "code",
   "execution_count": 1,
   "id": "8bfe726d",
   "metadata": {
    "id": "8bfe726d"
   },
   "outputs": [],
   "source": [
    "import openai\n",
    "import os\n",
    "\n",
    "from dotenv import load_dotenv, find_dotenv\n",
    "_ = load_dotenv(find_dotenv())\n",
    "\n",
    "openai.api_key  = os.getenv('OPENAI_API_KEY')"
   ]
  },
  {
   "cell_type": "code",
   "execution_count": 2,
   "id": "cce07b75",
   "metadata": {
    "id": "cce07b75"
   },
   "outputs": [],
   "source": [
    "def get_completion(prompt, model=\"gpt-3.5-turbo\"):\n",
    "    messages = [{\"role\": \"user\", \"content\": prompt}]\n",
    "    response = openai.ChatCompletion.create(\n",
    "        model=model,\n",
    "        messages=messages,\n",
    "        temperature=0,\n",
    "    )\n",
    "    return response.choices[0].message[\"content\"]"
   ]
  },
  {
   "cell_type": "markdown",
   "id": "df4d3c82",
   "metadata": {
    "id": "df4d3c82"
   },
   "source": [
    "### __Step 2: Generate a Marketing Product Description from a Product Fact Sheet__\n",
    "- Define a prompt to transform a technical fact sheet for a chair into a marketing product description.\n",
    "- The prompt includes the fact sheet details.\n",
    "- Use the __get_completion__ function to generate the marketing description."
   ]
  },
  {
   "cell_type": "code",
   "execution_count": 3,
   "id": "643273a3",
   "metadata": {
    "id": "643273a3"
   },
   "outputs": [],
   "source": [
    "fact_sheet_chair = \"\"\"\n",
    "OVERVIEW\n",
    "- Part of a beautiful family of mid-century inspired office furniture,\n",
    "including filing cabinets, desks, bookcases, meeting tables, and more.\n",
    "- Several options of shell color and base finishes.\n",
    "- Available with plastic back and front upholstery (SWC-100)\n",
    "or full upholstery (SWC-110) in 10 fabric and 6 leather options.\n",
    "- Base finish options are: stainless steel, matte black,\n",
    "gloss white, or chrome.\n",
    "- Chair is available with or without armrests.\n",
    "- Suitable for home or business settings.\n",
    "- Qualified for contract use.\n",
    "\n",
    "CONSTRUCTION\n",
    "- 5-wheel plastic coated aluminum base.\n",
    "- Pneumatic chair adjust for easy raise/lower action.\n",
    "\n",
    "DIMENSIONS\n",
    "- WIDTH 53 CM | 20.87”\n",
    "- DEPTH 51 CM | 20.08”\n",
    "- HEIGHT 80 CM | 31.50”\n",
    "- SEAT HEIGHT 44 CM | 17.32”\n",
    "- SEAT DEPTH 41 CM | 16.14”\n",
    "\n",
    "OPTIONS\n",
    "- Soft or hard-floor caster options.\n",
    "- Two choices of seat foam densities:\n",
    " medium (1.8 lb/ft3) or high (2.8 lb/ft3)\n",
    "- Armless or 8 position PU armrests\n",
    "\n",
    "MATERIALS\n",
    "SHELL BASE GLIDER\n",
    "- Cast Aluminum with modified nylon PA6/PA66 coating.\n",
    "- Shell thickness: 10 mm.\n",
    "SEAT\n",
    "- HD36 foam\n",
    "\n",
    "COUNTRY OF ORIGIN\n",
    "- Italy\n",
    "\"\"\""
   ]
  },
  {
   "cell_type": "code",
   "execution_count": 4,
   "id": "59deb038",
   "metadata": {
    "id": "59deb038"
   },
   "outputs": [
    {
     "name": "stdout",
     "output_type": "stream",
     "text": [
      "Introducing our stylish and versatile mid-century inspired office chair, perfect for both home and business settings. This chair is part of a beautiful family of office furniture that includes filing cabinets, desks, bookcases, meeting tables, and more.\n",
      "\n",
      "Customize your chair with several options of shell color and base finishes to suit your personal style. Choose between plastic back and front upholstery or full upholstery in a variety of fabric and leather options. The base finish options include stainless steel, matte black, gloss white, or chrome.\n",
      "\n",
      "Constructed with a 5-wheel plastic coated aluminum base and featuring a pneumatic chair adjust for easy raise/lower action, this chair is both functional and comfortable. The dimensions of the chair are as follows: WIDTH 53 CM | 20.87”, DEPTH 51 CM | 20.08”, HEIGHT 80 CM | 31.50”, SEAT HEIGHT 44 CM | 17.32”, SEAT DEPTH 41 CM | 16.14”.\n",
      "\n",
      "Choose between soft or hard-floor caster options, two seat foam densities (medium or high), and armless or 8 position PU armrests for added comfort. The materials used in the construction of this chair include Cast Aluminum with modified nylon PA6/PA66 coating for the shell base glider and HD36 foam for the seat.\n",
      "\n",
      "Designed and crafted in Italy, this office chair is not only stylish but also durable and functional. Elevate your workspace with this sleek and modern office chair that is qualified for contract use.\n"
     ]
    }
   ],
   "source": [
    "prompt = f\"\"\"\n",
    "Your task is to help a marketing team create a\n",
    "description for a retail website of a product based\n",
    "on a technical fact sheet.\n",
    "\n",
    "Write a product description based on the information\n",
    "provided in the technical specifications delimited by\n",
    "triple backticks.\n",
    "\n",
    "Technical specifications: ```{fact_sheet_chair}```\n",
    "\"\"\"\n",
    "response = get_completion(prompt)\n",
    "print(response)\n"
   ]
  },
  {
   "cell_type": "markdown",
   "id": "724102fb",
   "metadata": {
    "id": "724102fb"
   },
   "source": [
    "### __Step 3: Address the Issues__\n",
    "#### __Issue 1: Long Text__\n",
    "- Modify the prompt to limit the output to 50 words, making the content more concise for marketing purposes.\n"
   ]
  },
  {
   "cell_type": "code",
   "execution_count": 5,
   "id": "c692135d",
   "metadata": {
    "id": "c692135d"
   },
   "outputs": [
    {
     "name": "stdout",
     "output_type": "stream",
     "text": [
      "Introducing our versatile and stylish mid-century inspired office chair. Available in a variety of colors and finishes, with options for upholstery and armrests. Perfect for both home and business use, this chair features a durable construction and adjustable height for maximum comfort. Made in Italy.\n"
     ]
    }
   ],
   "source": [
    "prompt = f\"\"\"\n",
    "Your task is to help a marketing team create a\n",
    "description for a retail website of a product based\n",
    "on a technical fact sheet.\n",
    "\n",
    "Write a product description based on the information\n",
    "provided in the technical specifications delimited by\n",
    "triple backticks.\n",
    "\n",
    "Use at most 50 words.\n",
    "\n",
    "Technical specifications: ```{fact_sheet_chair}```\n",
    "\"\"\"\n",
    "response = get_completion(prompt)\n",
    "print(response)\n"
   ]
  },
  {
   "cell_type": "code",
   "execution_count": 6,
   "id": "028ccc16",
   "metadata": {
    "id": "028ccc16"
   },
   "outputs": [
    {
     "data": {
      "text/plain": [
       "302"
      ]
     },
     "execution_count": 6,
     "metadata": {},
     "output_type": "execute_result"
    }
   ],
   "source": [
    "len(response)"
   ]
  },
  {
   "cell_type": "markdown",
   "id": "586bee6c",
   "metadata": {
    "id": "586bee6c"
   },
   "source": [
    "#### __Issue 2: Focus on Wrong Details__\n",
    "- Further refine the prompt to focus on details relevant to furniture retailers, particularly emphasizing the materials of the product.\n",
    "- Add a requirement to include every 7-character product ID in the technical specification.\n"
   ]
  },
  {
   "cell_type": "code",
   "execution_count": 7,
   "id": "f3a4c571",
   "metadata": {
    "id": "f3a4c571"
   },
   "outputs": [
    {
     "name": "stdout",
     "output_type": "stream",
     "text": [
      "Introducing our versatile and stylish office chair, part of a mid-century inspired furniture collection. Constructed with a durable cast aluminum shell base glider and HD36 foam seat, this chair offers comfort and quality. Choose from a variety of upholstery and base finish options to suit your space. Made in Italy.\n"
     ]
    }
   ],
   "source": [
    "prompt = f\"\"\"\n",
    "Your task is to help a marketing team create a\n",
    "description for a retail website of a product based\n",
    "on a technical fact sheet.\n",
    "\n",
    "Write a product description based on the information\n",
    "provided in the technical specifications delimited by\n",
    "triple backticks.\n",
    "\n",
    "The description is intended for furniture retailers,\n",
    "so should be technical in nature and focus on the\n",
    "materials the product is constructed from.\n",
    "\n",
    "Use at most 50 words.\n",
    "\n",
    "Technical specifications: ```{fact_sheet_chair}```\n",
    "\"\"\"\n",
    "response = get_completion(prompt)\n",
    "print(response)"
   ]
  },
  {
   "cell_type": "code",
   "execution_count": 8,
   "id": "e1724cce",
   "metadata": {
    "id": "e1724cce"
   },
   "outputs": [
    {
     "name": "stdout",
     "output_type": "stream",
     "text": [
      "Introducing our versatile mid-century office chair, crafted with a durable cast aluminum shell and base glider coated with modified nylon. Choose from a variety of upholstery options and base finishes to suit your style. Perfect for home or business use. Product IDs: SWC-100, SWC-110. Made in Italy.\n"
     ]
    }
   ],
   "source": [
    "prompt = f\"\"\"\n",
    "Your task is to help a marketing team create a\n",
    "description for a retail website of a product based\n",
    "on a technical fact sheet.\n",
    "\n",
    "Write a product description based on the information\n",
    "provided in the technical specifications delimited by\n",
    "triple backticks.\n",
    "\n",
    "The description is intended for furniture retailers,\n",
    "so should be technical in nature and focus on the\n",
    "materials the product is constructed from.\n",
    "\n",
    "At the end of the description, include every 7-character\n",
    "Product ID in the technical specification.\n",
    "\n",
    "Use at most 50 words.\n",
    "\n",
    "Technical specifications: ```{fact_sheet_chair}```\n",
    "\"\"\"\n",
    "response = get_completion(prompt)\n",
    "print(response)"
   ]
  },
  {
   "cell_type": "markdown",
   "id": "0b944844",
   "metadata": {
    "id": "0b944844"
   },
   "source": [
    "#### __Issue 3: Need for a Table of Dimensions__\n",
    "- Adjust the prompt to ask for a product description that includes a table of dimensions.\n",
    "- The table should be formatted in HTML with two columns: one for the dimension name and one for the measurements in inches.\n",
    "- The entire output, including the description and the table, should be formatted as HTML for use on a website."
   ]
  },
  {
   "cell_type": "code",
   "execution_count": 9,
   "id": "6bbe9db7",
   "metadata": {
    "id": "6bbe9db7"
   },
   "outputs": [
    {
     "name": "stdout",
     "output_type": "stream",
     "text": [
      "<div>\n",
      "<p>This mid-century inspired office chair is a perfect addition to any home or business setting. With a variety of shell colors and base finishes to choose from, you can customize this chair to fit your style. The chair is available with plastic back and front upholstery or full upholstery in a range of fabric and leather options. The 5-wheel plastic coated aluminum base and pneumatic chair adjust make it easy to move and adjust the height for maximum comfort. Made with high-quality materials, including cast aluminum with modified nylon coating and HD36 foam, this chair is both durable and stylish.</p>\n",
      "\n",
      "<p>Product IDs: SWC-100, SWC-110</p>\n",
      "\n",
      "<table>\n",
      "  <caption>Product Dimensions</caption>\n",
      "  <tr>\n",
      "    <th>Dimension</th>\n",
      "    <th>Measurements</th>\n",
      "  </tr>\n",
      "  <tr>\n",
      "    <td>WIDTH</td>\n",
      "    <td>20.87\"</td>\n",
      "  </tr>\n",
      "  <tr>\n",
      "    <td>DEPTH</td>\n",
      "    <td>20.08\"</td>\n",
      "  </tr>\n",
      "  <tr>\n",
      "    <td>HEIGHT</td>\n",
      "    <td>31.50\"</td>\n",
      "  </tr>\n",
      "  <tr>\n",
      "    <td>SEAT HEIGHT</td>\n",
      "    <td>17.32\"</td>\n",
      "  </tr>\n",
      "  <tr>\n",
      "    <td>SEAT DEPTH</td>\n",
      "    <td>16.14\"</td>\n",
      "  </tr>\n",
      "</table>\n",
      "</div>\n"
     ]
    }
   ],
   "source": [
    "prompt = f\"\"\"\n",
    "Your task is to help a marketing team create a\n",
    "description for a retail website of a product based\n",
    "on a technical fact sheet.\n",
    "\n",
    "Write a product description based on the information\n",
    "provided in the technical specifications delimited by\n",
    "triple backticks.\n",
    "\n",
    "The description is intended for furniture retailers,\n",
    "so should be technical in nature and focus on the\n",
    "materials the product is constructed from.\n",
    "\n",
    "At the end of the description, include every 7-character\n",
    "Product ID in the technical specification.\n",
    "\n",
    "After the description, include a table that gives the\n",
    "product's dimensions. The table should have two columns.\n",
    "In the first column include the name of the dimension.\n",
    "In the second column include the measurements in inches only.\n",
    "\n",
    "Give the table the title 'Product Dimensions'.\n",
    "\n",
    "Format everything as HTML that can be used in a website.\n",
    "Place the description in a <div> element.\n",
    "\n",
    "Technical specifications: ```{fact_sheet_chair}```\n",
    "\"\"\"\n",
    "\n",
    "response = get_completion(prompt)\n",
    "print(response)"
   ]
  },
  {
   "cell_type": "markdown",
   "id": "LsOzz9XIb6Gg",
   "metadata": {
    "id": "LsOzz9XIb6Gg"
   },
   "source": [
    "### **Conclusion**\n",
    "\n",
    "- This iterative approach to prompt development in AI model interactions demonstrates how to fine-tune the input to achieve more specific and useful outputs.\n",
    "- Each iteration addresses specific issues like content length, focus on relevant details, and formatting requirements, showcasing how to tailor AI-generated content for practical applications like marketing and web development."
   ]
  }
 ],
 "metadata": {
  "colab": {
   "provenance": []
  },
  "kernelspec": {
   "display_name": "Python 3 [3.10]",
   "language": "python",
   "name": "python3"
  },
  "language_info": {
   "codemirror_mode": {
    "name": "ipython",
    "version": 3
   },
   "file_extension": ".py",
   "mimetype": "text/x-python",
   "name": "python",
   "nbconvert_exporter": "python",
   "pygments_lexer": "ipython3",
   "version": "3.10.2"
  }
 },
 "nbformat": 4,
 "nbformat_minor": 5
}
